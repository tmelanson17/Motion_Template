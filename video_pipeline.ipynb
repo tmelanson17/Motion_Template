{
 "cells": [
  {
   "cell_type": "code",
   "execution_count": 9,
   "metadata": {},
   "outputs": [],
   "source": [
    "# NOTE: Should I install moviepy / requests each time or include it in \n",
    "# the environment?\n",
    "from moviepy.editor import VideoFileClip\n",
    "import pickle\n",
    "from OpenPose.OpenPosePredict import *\n",
    "from OpenPose.OpenPoseDraw import drawSkeleton\n",
    "from util import *\n",
    "from serial import Serial"
   ]
  },
  {
   "cell_type": "code",
   "execution_count": 10,
   "metadata": {},
   "outputs": [],
   "source": [
    "\n",
    "\n",
    "def pipeline_draw(frame):\n",
    "    # Draw and display skeleton\n",
    "    points = predictPoints(frame)\n",
    "    img = drawSkeleton(points, frame)\n",
    "    return img\n",
    "\n",
    "def pipeline_print(frame):\n",
    "    # Draw and display skeleton\n",
    "    points = predictPoints(frame)\n",
    "    angles = create_angles(points)    \n",
    "    formed, angles = predictAngles(frame)\n",
    "    if formed:\n",
    "        commands = anglesToCommands(angles)\n",
    "        for com in commands:\n",
    "            ser.write(com.encode())\n",
    "            print(com)\n",
    "    else:\n",
    "        print(\"No commands\")\n",
    "    return frame"
   ]
  },
  {
   "cell_type": "code",
   "execution_count": 4,
   "metadata": {},
   "outputs": [
    {
     "name": "stdout",
     "output_type": "stream",
     "text": [
      "time taken by network : 3.173\n",
      "[MoviePy] >>>> Building video output/animation_2.mp4\n",
      "[MoviePy] Writing video output/animation_2.mp4\n"
     ]
    },
    {
     "name": "stderr",
     "output_type": "stream",
     "text": [
      " 17%|█▋        | 1/6 [00:03<00:17,  3.49s/it]"
     ]
    },
    {
     "name": "stdout",
     "output_type": "stream",
     "text": [
      "time taken by network : 3.026\n"
     ]
    },
    {
     "name": "stderr",
     "output_type": "stream",
     "text": [
      " 33%|███▎      | 2/6 [00:06<00:13,  3.44s/it]"
     ]
    },
    {
     "name": "stdout",
     "output_type": "stream",
     "text": [
      "time taken by network : 2.944\n"
     ]
    },
    {
     "name": "stderr",
     "output_type": "stream",
     "text": [
      " 50%|█████     | 3/6 [00:11<00:11,  3.87s/it]"
     ]
    },
    {
     "name": "stdout",
     "output_type": "stream",
     "text": [
      "time taken by network : 4.229\n"
     ]
    },
    {
     "name": "stderr",
     "output_type": "stream",
     "text": [
      " 67%|██████▋   | 4/6 [00:15<00:07,  3.81s/it]"
     ]
    },
    {
     "name": "stdout",
     "output_type": "stream",
     "text": [
      "time taken by network : 3.088\n"
     ]
    },
    {
     "name": "stderr",
     "output_type": "stream",
     "text": [
      " 83%|████████▎ | 5/6 [00:18<00:03,  3.73s/it]"
     ]
    },
    {
     "name": "stdout",
     "output_type": "stream",
     "text": [
      "time taken by network : 2.949\n"
     ]
    },
    {
     "name": "stderr",
     "output_type": "stream",
     "text": [
      "\n"
     ]
    },
    {
     "name": "stdout",
     "output_type": "stream",
     "text": [
      "[MoviePy] Done.\n",
      "[MoviePy] >>>> Video ready: output/animation_2.mp4 \n",
      "\n",
      "CPU times: user 47 s, sys: 2.71 s, total: 49.7 s\n",
      "Wall time: 19.1 s\n"
     ]
    }
   ],
   "source": [
    "# Write to video file as images\n",
    "file = \"animation_2.mp4\"\n",
    "video = VideoFileClip('SamplePoses/' + file)\n",
    "\n",
    "\n",
    "import  matplotlib.pyplot  as plt\n",
    "output_file = 'output/' + file\n",
    "frame = video.fl(lambda gf, t: pipeline_draw(gf(t))) # Insert main pipeline function here\n",
    "%time frame.write_videofile(output_file, audio=False)"
   ]
  },
  {
   "cell_type": "code",
   "execution_count": 11,
   "metadata": {},
   "outputs": [
    {
     "name": "stdout",
     "output_type": "stream",
     "text": [
      "time taken by network : 2.506\n",
      "time taken by network : 2.486\n",
      "M03190\n",
      "M05196\n",
      "M04180\n",
      "M06169\n",
      "[MoviePy] >>>> Building video output/tmp.mp4\n",
      "[MoviePy] Writing video output/tmp.mp4\n"
     ]
    },
    {
     "name": "stderr",
     "output_type": "stream",
     "text": [
      "  0%|          | 0/6 [00:00<?, ?it/s]"
     ]
    },
    {
     "name": "stdout",
     "output_type": "stream",
     "text": [
      "time taken by network : 2.691\n"
     ]
    },
    {
     "name": "stderr",
     "output_type": "stream",
     "text": [
      " 17%|█▋        | 1/6 [00:06<00:33,  6.69s/it]"
     ]
    },
    {
     "name": "stdout",
     "output_type": "stream",
     "text": [
      "time taken by network : 3.187\n",
      "M03190\n",
      "M05196\n",
      "M04180\n",
      "M06169\n",
      "time taken by network : 2.598\n"
     ]
    },
    {
     "name": "stderr",
     "output_type": "stream",
     "text": [
      " 33%|███▎      | 2/6 [00:12<00:25,  6.49s/it]"
     ]
    },
    {
     "name": "stdout",
     "output_type": "stream",
     "text": [
      "time taken by network : 2.810\n",
      "M03180\n",
      "M05270\n",
      "M04270\n",
      "M06167\n",
      "time taken by network : 2.883\n"
     ]
    },
    {
     "name": "stderr",
     "output_type": "stream",
     "text": [
      " 50%|█████     | 3/6 [00:19<00:19,  6.47s/it]"
     ]
    },
    {
     "name": "stdout",
     "output_type": "stream",
     "text": [
      "time taken by network : 2.715\n",
      "M03180\n",
      "M05225\n",
      "M04270\n",
      "M06165\n",
      "time taken by network : 2.818\n"
     ]
    },
    {
     "name": "stderr",
     "output_type": "stream",
     "text": [
      " 67%|██████▋   | 4/6 [00:25<00:12,  6.47s/it]"
     ]
    },
    {
     "name": "stdout",
     "output_type": "stream",
     "text": [
      "time taken by network : 2.784\n",
      "M03090\n",
      "M05180\n",
      "M04200\n",
      "M06088\n",
      "time taken by network : 2.829\n"
     ]
    },
    {
     "name": "stderr",
     "output_type": "stream",
     "text": [
      " 83%|████████▎ | 5/6 [00:32<00:06,  6.49s/it]"
     ]
    },
    {
     "name": "stdout",
     "output_type": "stream",
     "text": [
      "time taken by network : 2.867\n",
      "M03090\n",
      "M05180\n",
      "M04200\n",
      "M06104\n"
     ]
    },
    {
     "name": "stderr",
     "output_type": "stream",
     "text": [
      "\n"
     ]
    },
    {
     "name": "stdout",
     "output_type": "stream",
     "text": [
      "[MoviePy] Done.\n",
      "[MoviePy] >>>> Video ready: output/tmp.mp4 \n",
      "\n",
      "CPU times: user 1min 30s, sys: 4.64 s, total: 1min 34s\n",
      "Wall time: 32.8 s\n"
     ]
    }
   ],
   "source": [
    "# Output video to serial\n",
    "file = \"animation_2.mp4\"\n",
    "video = VideoFileClip('SamplePoses/' + file)\n",
    "\n",
    "\n",
    "import  matplotlib.pyplot  as plt\n",
    "output_file = 'output/tmp.mp4'\n",
    "frame = video.fl(lambda gf, t: pipeline_print(gf(t))) # Insert main pipeline function here\n",
    "%time frame.write_videofile(output_file, audio=False)"
   ]
  },
  {
   "cell_type": "code",
   "execution_count": null,
   "metadata": {},
   "outputs": [],
   "source": []
  }
 ],
 "metadata": {
  "kernelspec": {
   "display_name": "Python 3",
   "language": "python",
   "name": "python3"
  },
  "language_info": {
   "codemirror_mode": {
    "name": "ipython",
    "version": 3
   },
   "file_extension": ".py",
   "mimetype": "text/x-python",
   "name": "python",
   "nbconvert_exporter": "python",
   "pygments_lexer": "ipython3",
   "version": "3.6.5"
  }
 },
 "nbformat": 4,
 "nbformat_minor": 2
}
